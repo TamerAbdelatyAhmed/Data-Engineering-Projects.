{
 "cells": [
  {
   "cell_type": "code",
   "execution_count": 3,
   "id": "5eddb8dc-7dc3-4047-80e5-09d99b319478",
   "metadata": {},
   "outputs": [],
   "source": [
    "import psycopg2 as pg2"
   ]
  },
  {
   "cell_type": "code",
   "execution_count": 11,
   "id": "8806407f-6a39-43ef-b1c1-e6c11eaa2208",
   "metadata": {},
   "outputs": [],
   "source": [
    "conn = pg2.connect(host='127.0.0.1', database='student', user='postgres',  password='temotec', port= '5432')"
   ]
  },
  {
   "cell_type": "code",
   "execution_count": 12,
   "id": "ac5a242a-f6d9-43f6-808e-ec0a619d4985",
   "metadata": {},
   "outputs": [],
   "source": [
    "cur = conn.cursor()"
   ]
  },
  {
   "cell_type": "code",
   "execution_count": 13,
   "id": "7faf9c68-afd3-46b7-ac59-e1569a0cdeb7",
   "metadata": {},
   "outputs": [],
   "source": [
    "conn.set_session(autocommit=True)"
   ]
  },
  {
   "cell_type": "code",
   "execution_count": 15,
   "id": "ad4a9ac4-6ca0-4d93-a2b9-36a912bf35c0",
   "metadata": {},
   "outputs": [],
   "source": [
    "cur.execute('CREATE TABLE test123(col1 int, col2 int, col3 int);')"
   ]
  },
  {
   "cell_type": "code",
   "execution_count": 16,
   "id": "0b02357d-b1af-4190-b6a0-074518f61a6b",
   "metadata": {},
   "outputs": [],
   "source": [
    "cur.execute('SELECT * FROM test123;')"
   ]
  },
  {
   "cell_type": "code",
   "execution_count": 17,
   "id": "918bd765-695b-4615-94cf-b78ac3f9915b",
   "metadata": {},
   "outputs": [
    {
     "name": "stdout",
     "output_type": "stream",
     "text": [
      "[(0,)]\n"
     ]
    }
   ],
   "source": [
    "cur.execute('SELECT COUNT(*) FROM test123;')\n",
    "print(cur.fetchall())"
   ]
  },
  {
   "cell_type": "code",
   "execution_count": 18,
   "id": "f039cf20-2b21-4bb7-8ff2-a9520aed62d7",
   "metadata": {},
   "outputs": [],
   "source": [
    "cur.execute('DROP TABLE test123')"
   ]
  },
  {
   "cell_type": "code",
   "execution_count": 19,
   "id": "dbcde4fb-aed2-4b8b-8f25-62a2236a1edd",
   "metadata": {},
   "outputs": [
    {
     "ename": "UndefinedTable",
     "evalue": "relation \"test123\" does not exist\nLINE 1: SELECT * FROM test123;\n                      ^\n",
     "output_type": "error",
     "traceback": [
      "\u001b[1;31m---------------------------------------------------------------------------\u001b[0m",
      "\u001b[1;31mUndefinedTable\u001b[0m                            Traceback (most recent call last)",
      "Cell \u001b[1;32mIn[19], line 1\u001b[0m\n\u001b[1;32m----> 1\u001b[0m \u001b[43mcur\u001b[49m\u001b[38;5;241;43m.\u001b[39;49m\u001b[43mexecute\u001b[49m\u001b[43m(\u001b[49m\u001b[38;5;124;43m'\u001b[39;49m\u001b[38;5;124;43mSELECT * FROM test123;\u001b[39;49m\u001b[38;5;124;43m'\u001b[39;49m\u001b[43m)\u001b[49m\n",
      "\u001b[1;31mUndefinedTable\u001b[0m: relation \"test123\" does not exist\nLINE 1: SELECT * FROM test123;\n                      ^\n"
     ]
    }
   ],
   "source": [
    "cur.execute('SELECT * FROM test123;')"
   ]
  },
  {
   "cell_type": "code",
   "execution_count": 20,
   "id": "f2d69fb2-9300-4bab-9bd3-cf7f268058d7",
   "metadata": {},
   "outputs": [],
   "source": [
    "conn.close()"
   ]
  },
  {
   "cell_type": "code",
   "execution_count": null,
   "id": "4689a291-8535-47e7-a5ec-a03fae8b333b",
   "metadata": {},
   "outputs": [],
   "source": []
  }
 ],
 "metadata": {
  "kernelspec": {
   "display_name": "Python 3 (ipykernel)",
   "language": "python",
   "name": "python3"
  },
  "language_info": {
   "codemirror_mode": {
    "name": "ipython",
    "version": 3
   },
   "file_extension": ".py",
   "mimetype": "text/x-python",
   "name": "python",
   "nbconvert_exporter": "python",
   "pygments_lexer": "ipython3",
   "version": "3.11.1"
  }
 },
 "nbformat": 4,
 "nbformat_minor": 5
}
